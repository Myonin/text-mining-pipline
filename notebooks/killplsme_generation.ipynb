{
 "cells": [
  {
   "cell_type": "code",
   "execution_count": 21,
   "metadata": {
    "ExecuteTime": {
     "end_time": "2019-11-05T18:27:53.780539Z",
     "start_time": "2019-11-05T18:27:52.444607Z"
    }
   },
   "outputs": [],
   "source": [
    "import random\n",
    "import os\n",
    "import re\n",
    "import sys\n",
    "import copy\n",
    "import datetime\n",
    "import traceback\n",
    "import heapq\n",
    "sys.path.append('../..')\n",
    "sys.path.append('..')\n",
    "from tqdm import tqdm\n",
    "import numpy as np\n",
    "import pandas as pd\n",
    "\n",
    "import warnings\n",
    "warnings.filterwarnings('ignore')\n",
    "\n",
    "import matplotlib.pyplot as plt\n",
    "%matplotlib inline\n",
    "\n",
    "import torch\n",
    "from torch import nn\n",
    "from torch.nn import functional as F\n",
    "from torch.utils.data import Dataset\n",
    "\n",
    "import youtokentome as yttm\n",
    "\n",
    "from modules.simple_nn_transformer import init_random_seed, fast_clean_text, save_texts_to_file, ensure_length, \\\n",
    "LanguageModelDataset, make_target_dependency_mask, make_positional_encoding, LanguageModel, lm_cross_entropy, \\\n",
    "lr_scheduler, BatchFirstTransformerEncoder, train_eval_loop, get_params_number, BeamGenerator,  \\\n",
    "copy_data_to_device"
   ]
  },
  {
   "cell_type": "code",
   "execution_count": 17,
   "metadata": {},
   "outputs": [],
   "source": [
    "DIR_DATA = '../data/killplsme'\n",
    "DIR_MODELS = '../models/killplsme'\n",
    "DF = 'killplsme_20211004-194643.csv'\n",
    "os.makedirs(os.path.join(DIR_DATA), exist_ok=True)\n",
    "os.makedirs(os.path.join(DIR_MODELS), exist_ok=True)"
   ]
  },
  {
   "cell_type": "code",
   "execution_count": 8,
   "metadata": {},
   "outputs": [],
   "source": [
    "df = pd.read_csv(os.path.join(DIR_DATA, DF), lineterminator='\\n')"
   ]
  },
  {
   "cell_type": "code",
   "execution_count": 9,
   "metadata": {},
   "outputs": [
    {
     "data": {
      "text/html": [
       "<div>\n",
       "<style scoped>\n",
       "    .dataframe tbody tr th:only-of-type {\n",
       "        vertical-align: middle;\n",
       "    }\n",
       "\n",
       "    .dataframe tbody tr th {\n",
       "        vertical-align: top;\n",
       "    }\n",
       "\n",
       "    .dataframe thead th {\n",
       "        text-align: right;\n",
       "    }\n",
       "</style>\n",
       "<table border=\"1\" class=\"dataframe\">\n",
       "  <thead>\n",
       "    <tr style=\"text-align: right;\">\n",
       "      <th></th>\n",
       "      <th>id</th>\n",
       "      <th>date</th>\n",
       "      <th>tags</th>\n",
       "      <th>likes</th>\n",
       "      <th>text</th>\n",
       "    </tr>\n",
       "  </thead>\n",
       "  <tbody>\n",
       "    <tr>\n",
       "      <th>0</th>\n",
       "      <td>11</td>\n",
       "      <td>16 марта 2009, 13:56</td>\n",
       "      <td>техника</td>\n",
       "      <td>-11312</td>\n",
       "      <td>\\tВызвал сантехника прочистить раковину на кух...</td>\n",
       "    </tr>\n",
       "    <tr>\n",
       "      <th>1</th>\n",
       "      <td>10</td>\n",
       "      <td>16 марта 2009, 13:56</td>\n",
       "      <td>отношения</td>\n",
       "      <td>26614</td>\n",
       "      <td>\\tЯ почти год встречаюсь с мужчиной, три месяц...</td>\n",
       "    </tr>\n",
       "    <tr>\n",
       "      <th>2</th>\n",
       "      <td>9</td>\n",
       "      <td>16 марта 2009, 13:56</td>\n",
       "      <td>отношения</td>\n",
       "      <td>13795</td>\n",
       "      <td>\\tЗадержался на пьянке по поводу праздника, по...</td>\n",
       "    </tr>\n",
       "    <tr>\n",
       "      <th>3</th>\n",
       "      <td>8</td>\n",
       "      <td>16 марта 2009, 13:55</td>\n",
       "      <td>работа , секс , друзья , отношения</td>\n",
       "      <td>126862</td>\n",
       "      <td>18+</td>\n",
       "    </tr>\n",
       "    <tr>\n",
       "      <th>4</th>\n",
       "      <td>7</td>\n",
       "      <td>16 марта 2009, 13:55</td>\n",
       "      <td>семья , отношения</td>\n",
       "      <td>77501</td>\n",
       "      <td>\\tПока моя девушка пошла на часок к маме, зале...</td>\n",
       "    </tr>\n",
       "  </tbody>\n",
       "</table>\n",
       "</div>"
      ],
      "text/plain": [
       "   id                  date                                tags   likes  \\\n",
       "0  11  16 марта 2009, 13:56                            техника   -11312   \n",
       "1  10  16 марта 2009, 13:56                          отношения    26614   \n",
       "2   9  16 марта 2009, 13:56                          отношения    13795   \n",
       "3   8  16 марта 2009, 13:55  работа , секс , друзья , отношения  126862   \n",
       "4   7  16 марта 2009, 13:55                  семья , отношения    77501   \n",
       "\n",
       "                                                text  \n",
       "0  \\tВызвал сантехника прочистить раковину на кух...  \n",
       "1  \\tЯ почти год встречаюсь с мужчиной, три месяц...  \n",
       "2  \\tЗадержался на пьянке по поводу праздника, по...  \n",
       "3                                                18+  \n",
       "4  \\tПока моя девушка пошла на часок к маме, зале...  "
      ]
     },
     "execution_count": 9,
     "metadata": {},
     "output_type": "execute_result"
    }
   ],
   "source": [
    "df.head()"
   ]
  },
  {
   "cell_type": "code",
   "execution_count": 11,
   "metadata": {},
   "outputs": [
    {
     "data": {
      "text/plain": [
       "161467"
      ]
     },
     "execution_count": 11,
     "metadata": {},
     "output_type": "execute_result"
    }
   ],
   "source": [
    "full_text = ' '.join(df.text.values)\n",
    "full_text = fast_clean_text(full_text)\n",
    "all_chunks = [full_text[start:start+200] for start in range(0, len(full_text), 200//2)]\n",
    "len(all_chunks)"
   ]
  },
  {
   "cell_type": "code",
   "execution_count": 12,
   "metadata": {
    "ExecuteTime": {
     "end_time": "2019-11-05T18:27:55.402080Z",
     "start_time": "2019-11-05T18:27:55.379575Z"
    }
   },
   "outputs": [
    {
     "name": "stdout",
     "output_type": "stream",
     "text": [
      "у про то как она скучает какая она горячая и подобное Ну фигня думаю он Алекс я Алексей она и раньше не туда отправляла часто смеялись И тут ей приходит смс от брата жду тебя уже в кровати моя Пристре\n"
     ]
    }
   ],
   "source": [
    "print(all_chunks[11])"
   ]
  },
  {
   "cell_type": "code",
   "execution_count": 13,
   "metadata": {
    "ExecuteTime": {
     "end_time": "2019-11-05T18:27:55.954154Z",
     "start_time": "2019-11-05T18:27:55.919185Z"
    }
   },
   "outputs": [
    {
     "name": "stdout",
     "output_type": "stream",
     "text": [
      "Размер обучающей выборки 113026\n",
      "Размер валидационной выборки 48441\n"
     ]
    }
   ],
   "source": [
    "np.random.shuffle(all_chunks)\n",
    "\n",
    "TRAIN_SPLIT = int(len(all_chunks) * 0.7)\n",
    "train_texts = all_chunks[:TRAIN_SPLIT]\n",
    "test_texts = all_chunks[TRAIN_SPLIT:]\n",
    "\n",
    "del all_chunks\n",
    "\n",
    "print('Размер обучающей выборки', len(train_texts))\n",
    "print('Размер валидационной выборки', len(test_texts))"
   ]
  },
  {
   "cell_type": "code",
   "execution_count": 18,
   "metadata": {
    "ExecuteTime": {
     "end_time": "2019-11-05T18:27:56.412237Z",
     "start_time": "2019-11-05T18:27:56.386089Z"
    }
   },
   "outputs": [],
   "source": [
    "BPE_MODEL_FILENAME = os.path.join(DIR_MODELS, 'bpe_model.yttm')"
   ]
  },
  {
   "cell_type": "code",
   "execution_count": 19,
   "metadata": {
    "ExecuteTime": {
     "end_time": "2019-11-05T18:27:56.928780Z",
     "start_time": "2019-11-05T18:27:56.696400Z"
    }
   },
   "outputs": [],
   "source": [
    "TRAIN_TEXTS_FILENAME = os.path.join(DIR_DATA, 'bpe_train.txt')\n",
    "save_texts_to_file(train_texts, TRAIN_TEXTS_FILENAME)"
   ]
  },
  {
   "cell_type": "code",
   "execution_count": 18,
   "metadata": {
    "ExecuteTime": {
     "end_time": "2019-11-05T18:27:56.928780Z",
     "start_time": "2019-11-05T18:27:56.696400Z"
    }
   },
   "outputs": [
    {
     "name": "stdout",
     "output_type": "stream",
     "text": [
      "CPU times: user 2.98 s, sys: 186 ms, total: 3.17 s\n",
      "Wall time: 663 ms\n"
     ]
    },
    {
     "data": {
      "text/plain": [
       "<youtokentome.youtokentome.BPE at 0x7fb8f8e32390>"
      ]
     },
     "execution_count": 18,
     "metadata": {},
     "output_type": "execute_result"
    }
   ],
   "source": [
    "%%time\n",
    "yttm.BPE.train(data=TRAIN_TEXTS_FILENAME, vocab_size=1000, model=BPE_MODEL_FILENAME);"
   ]
  },
  {
   "cell_type": "code",
   "execution_count": 10,
   "metadata": {
    "ExecuteTime": {
     "end_time": "2019-11-05T18:27:57.767294Z",
     "start_time": "2019-11-05T18:27:57.731252Z"
    }
   },
   "outputs": [
    {
     "name": "stdout",
     "output_type": "stream",
     "text": [
      "CPU times: user 613 µs, sys: 208 µs, total: 821 µs\n",
      "Wall time: 1.01 ms\n"
     ]
    }
   ],
   "source": [
    "%%time\n",
    "tokenizer = yttm.BPE(BPE_MODEL_FILENAME)"
   ]
  },
  {
   "cell_type": "code",
   "execution_count": 20,
   "metadata": {
    "ExecuteTime": {
     "end_time": "2019-11-05T18:27:57.897826Z",
     "start_time": "2019-11-05T18:27:57.874631Z"
    }
   },
   "outputs": [
    {
     "name": "stdout",
     "output_type": "stream",
     "text": [
      "<PAD> <UNK> <BOS> <EOS> ▁ о а е т н и с л р в м д у к п я ь б ч з г ы ж й ш ю х П ц М щ э Н В К С Я О ф И А Д У Т Р Е З Б ъ Ч Г Ж Л Э Х Ш Ф Ь Ц Й Ы Ю Щ Ъ ▁н ▁п ▁с ▁в то ▁м ▁о ла ▁и ▁д ен ра ▁по ▁не ▁к ть ро но го ли ▁на ст ▁б ет ▁ч ре ▁у за ва ▁т ко на ло ка ся ни ри ▁е да ль ▁что ▁за ▁я во сь ▁ра ем ру та те ди не хо ле ▁мо ▁ж ▁то ▁ко ма ер ак ти ▁П бо ▁от ▁до ▁а еня ▁вс ▁про ны де ▁меня ▁бы ▁э ча ▁но ки ▁го ▁л ▁Н мо чи же ми ▁ни ей ени ви ▁со му ▁хо ▁при ▁все ▁В ▁ма ▁это ень ▁вы до ▁об ▁К ну ▁во ▁М ку уж ста си ше ере ▁С ▁Я ▁з сто ▁мне МП ве ля ▁де ▁жи че ши ▁как ▁ро ▁ре лась ▁да ▁О гда ▁бо га ▁рабо ▁раз ▁он би ▁се ду ры ться ▁из ня ву ▁И па лу ме ▁она пи ▁г ты ▁па ной жа ▁дру по ▁А ▁под ту ▁По сть ▁ка ▁ме сти ▁так гу ▁лю лся лю ▁муж ги ▁его лько жи каза ▁те льно ▁Д ще ез ▁сво ха ется ▁та ▁ста ▁КМП ▁са ▁У ют кой ▁ве бы ▁лет ря ▁кото лись со ша ▁си ▁роди сле вы ци ▁бу ды ▁уже ▁пере ▁зна ный щи са ▁боль ▁Т ▁ку вать ▁ли се ▁Но ▁мы ▁день бе ▁пре мен лось ерь ная ▁же вно ▁ПМП нима чу пе ▁было том ные ца ком дно ке ща ения ▁ф ▁нет ▁оч ▁только ▁родите рти ▁ш ▁На жу стре ▁Р ▁ее ▁ви ▁работа лы ▁жиз сте нь ▁Не ▁реб це вори бу ▁просто ▁дет тра ▁ква зы ▁даже бя ▁могу ена ▁рас дит юсь ▁очень ного ба ▁ду ▁кварти ▁после ▁х ▁пар ение ▁года дь ▁ле ▁вре зна ▁че перь ут еха ▁когда ▁меся шла вер ▁нача ▁без ств дела ▁З ене мы дет ▁ей сли ▁чтобы мя ▁нас ▁сем ▁сказа тому вуш ▁ба пу чно ▁При ▁оста тся ски ▁бра ▁дол ▁пла ▁ру ▁ребен тя ▁Мо пла час ▁Б ▁пол ствен ▁Е ▁ча ейчас ▁еще ья ▁была ▁дела стоя ▁хоро чего ▁помо вала раз чь ▁од ети ▁девуш ▁ему ▁себя ско жно мой ▁ин ▁которы вали ска ▁они ▁бе ▁сто об ▁наза ▁назад бл ▁люби ▁Мне ▁него ▁ком ▁ты вает ▁больше про рой зи сы его лове ему ▁су ▁для ▁мои ▁есть ных ром ▁время ▁полу ▁говори ▁дома енег ▁теперь ▁ничего ▁вот ▁За ▁поч ние ▁сы стра ную ров жет ▁нуж ерез вет ▁их шь ▁ми ▁Ч ▁был зя ▁мама ▁жизнь ство пра ▁Он ▁потом ▁потому шу чет ▁или ▁если нно ▁пер ▁Ко ▁пи ▁деньги ▁смо ▁чу ▁челове ▁ней ▁подру ▁пред гла жды ▁тоже ▁денег вал ▁стра ▁работу ▁отно шо ▁неде ным ▁воз бра ▁друз дить ▁семь тель ▁Она ▁жен ▁вме тре ят ▁знаю ▁нико ▁год дин лей ▁кон ▁хочу ▁будет рма ▁сло ния уч мер ▁горо ▁жить ▁этого ▁ди ▁мой ▁пока сту ▁себе ваю ▁друго блем бира ▁поз йти ▁сдела ▁дума ▁родители ▁надо ▁Про дер ▁отнош ства ▁Ж ▁реши ▁моей ▁ту ▁этом ▁всегда ▁ва ▁понима ▁род ▁слу ▁сейчас ▁нее ▁там ▁свои стро ниц вля ▁мной стрели зо ыта ▁проблем кры фо ▁моя ге ▁Ра ▁ус ков шел ▁вместе ▁детей ▁работы кая ▁Ма ▁жизни ▁пра ное ▁ним ▁фи ▁До лет ▁квартиру ▁шко стрелите ▁через ▁Да ▁тут ▁эти ▁были гра ▁кра ▁Все ▁встре ▁хоте ▁пода ▁луч ▁хотя ▁сама ▁постоя ▁люб ▁Г чита вый дня ▁ско чески ▁чем ▁мужа ▁пу давно вой ▁одно кра дом ▁буду обще вая ▁два ней ▁Мы ками нем тов ▁р ▁много ▁само тец ▁вер ход ▁ис ▁бро фи ню ▁может ходит шей ▁того ▁том вую ▁мать су ▁вообще ▁ребенка ▁почти мени ▁Л буш ▁сле ▁норма ▁гла чера тельно еремен енно шая ▁месяц ▁Ро сси года кого чина ник от ▁Э ▁узна ▁делать ▁никогда ▁хочет чка кто шло ходи ▁боле тно ▁где тер ▁нам сила вони ▁тре ▁вра ▁Х ются ▁них ▁учи ▁Пристрелите ▁голо ▁съ ▁друзья ждый ▁хорошо кон ▁обща ▁работе ▁маши ▁домой ▁заму кла ▁бабуш ▁всем вается ▁Когда вить ▁сест ▁купи ▁таки ложи ▁ещ ший ▁Те жать разу ью ▁жена сно ▁поня ваться ▁пло ять ▁встреча ▁родителя ▁отношения рпла ▁один цо рая ально ▁Муж ▁ска ▁обе ▁быть дни сколько ▁долж ▁спо ▁постоянно ете ции ▁люблю ▁взя писа ▁помога пре ▁замуж ▁им ▁Сейчас нова ▁жа сни ▁ст ▁ла ▁говорит дать ▁друг ▁тя вя ▁одна ▁любо деть ▁пыта ном ▁сов хи ск ▁би ▁зара ность ▁месяца лле ▁три чем ▁спа ▁зарпла ехала ▁хва пы ▁мужем ▁пор ▁отец ▁родителей ок ▁вто ▁счита ▁пси ▁всех ▁ника ▁всего ▁своей ▁который ▁сказала ▁Как рети ▁пос ▁обо чала кое ▁сва ▁му ▁общ вра ▁парень ▁кре жд ▁Хо ▁уни ▁получи ▁свою сил ▁ки тив ▁ти дите ▁сразу ▁чув ▁девушка ▁дня ▁человек ▁Теперь ▁сестра казы ▁пожа ▁фо ▁тем дел ▁неделю ▁разво ▁бли ▁сказал бота сит дал ▁понимаю ▁всю ▁Это ▁каждый ▁живу ▁тра пло ▁ведь ▁То нее ▁теле строи ▁ито ▁здо ▁После тере рт ▁От ▁Го ▁вос ▁несколько рого ▁ц ▁свадь стви ▁кро ▁Вы ▁кто говори ▁моло рую вые ▁нужно дала ▁моего ▁дочь при лад ▁работать льше ▁Жи ▁Ни ▁мол ▁расс вл ▁ло рет баты нуть ▁вся тери сить вари бой луй руг ▁сча ▁меч ▁быв ках ▁беремен яви тить чку ▁тру сов вают ▁стар ▁гово ▁другой ▁такой ▁комна ▁чи ений енави сем нии луйста ▁проблемы ница ▁кри ▁парнем ция ▁стала зу рю рави ▁тыся коми ких лень роде ▁итоге шно ▁получа ▁поло ▁которые жала шли ▁можно ▁лучше ▁никто ▁Недавно ▁гру ▁хоть ▁ь ▁посту цию ▁объ ▁сам фе ▁друга ▁дво ▁оби ▁разго ▁кла нт ▁гото люби ▁каж ▁це ▁вз ▁пожалуйста ▁уста ▁сын ▁которая ехать ▁ужа той ньше чки ▁полгода ▁Мама ▁спе ▁женщи ▁Моя ▁уда ▁Потом ницу щий ▁поку ▁пе ровь ▁знаком валась ▁родствен ▁работаю ▁занима\n"
     ]
    }
   ],
   "source": [
    "print(' '.join(tokenizer.vocab()))"
   ]
  },
  {
   "cell_type": "code",
   "execution_count": 21,
   "metadata": {
    "ExecuteTime": {
     "end_time": "2019-11-05T18:27:58.100551Z",
     "start_time": "2019-11-05T18:27:58.075268Z"
    },
    "scrolled": false
   },
   "outputs": [
    {
     "name": "stdout",
     "output_type": "stream",
     "text": [
      "[[4, 247, 555, 212, 137, 726, 297, 256, 562, 164, 373, 169, 100, 116, 242, 88, 322, 116, 11, 469, 70, 120, 14, 150, 104, 30, 766, 216, 72, 280, 104, 330, 72, 194, 6, 298, 758, 72, 611, 28, 120, 775, 152, 101, 15, 158, 410, 928, 163, 80, 151, 82, 409, 257, 806, 941, 138, 25, 86, 579, 14, 617, 356, 144, 8, 321, 345, 711, 77, 162, 74, 128, 26, 70, 13], [89, 78, 128, 949, 450, 250, 13, 21, 111, 83, 116, 130, 76, 394, 915, 408, 218, 455, 593, 818, 337, 102, 111, 133, 14, 122, 18, 195, 89, 126, 117, 77, 82, 110, 15, 418, 76, 192, 220, 108, 33, 26, 501, 239, 81, 213, 88, 72, 74, 20, 265, 116, 22, 174, 163, 944, 78, 211, 31, 310, 6, 76, 9, 25, 89, 95, 243, 672, 15, 77, 71, 94, 16, 642, 220, 108, 304, 31, 311, 170, 17, 144, 877, 157, 220, 104]]\n"
     ]
    }
   ],
   "source": [
    "print(tokenizer.encode(train_texts[:2]))"
   ]
  },
  {
   "cell_type": "code",
   "execution_count": 22,
   "metadata": {},
   "outputs": [
    {
     "data": {
      "text/plain": [
       "['ще надо И вс таки ПМП У моей мамы обнаружили вирусную пневмонию Сейчас она в больнице в реанимации в крайне тяжелом состоянии Врачи не делают никаких прогнозов хотя лечат ее очень хорошо и все меры пр',\n",
       " 'на держала сухарь я крутила ручку была громкая музыка я отвлеклась на кота и не заметила как пальцы подруги попали в мясорубку В итоге двух фаланг на указательном и среднем пальцах нет Куча крови пани']"
      ]
     },
     "execution_count": 22,
     "metadata": {},
     "output_type": "execute_result"
    }
   ],
   "source": [
    "train_texts[:2]"
   ]
  },
  {
   "cell_type": "code",
   "execution_count": 23,
   "metadata": {
    "ExecuteTime": {
     "end_time": "2019-11-05T18:27:59.729717Z",
     "start_time": "2019-11-05T18:27:59.551045Z"
    }
   },
   "outputs": [],
   "source": [
    "train_token_ids = tokenizer.encode(train_texts, bos=True, eos=True)\n",
    "test_token_ids = tokenizer.encode(test_texts, bos=True, eos=True)"
   ]
  },
  {
   "cell_type": "code",
   "execution_count": 24,
   "metadata": {
    "ExecuteTime": {
     "end_time": "2019-11-05T18:28:00.401753Z",
     "start_time": "2019-11-05T18:27:59.731680Z"
    }
   },
   "outputs": [
    {
     "data": {
      "image/png": "[encoded data removed]",
      "text/plain": [
       "<Figure size 432x288 with 1 Axes>"
      ]
     },
     "metadata": {
      "needs_background": "light"
     },
     "output_type": "display_data"
    }
   ],
   "source": [
    "plt.hist([len(sent) for sent in train_token_ids], bins=30)\n",
    "plt.title('Распределение длин фрагментов в токенах')\n",
    "plt.yscale('log');"
   ]
  },
  {
   "cell_type": "code",
   "execution_count": 25,
   "metadata": {
    "ExecuteTime": {
     "end_time": "2019-11-05T18:28:01.153867Z",
     "start_time": "2019-11-05T18:28:00.404320Z"
    }
   },
   "outputs": [
    {
     "data": {
      "image/png": "[encoded data removed]",
      "text/plain": [
       "<Figure size 432x288 with 1 Axes>"
      ]
     },
     "metadata": {
      "needs_background": "light"
     },
     "output_type": "display_data"
    }
   ],
   "source": [
    "token_counts = np.bincount([token_id for text in train_token_ids for token_id in text])\n",
    "plt.hist(token_counts, bins=100)\n",
    "plt.title('Распределение количества упоминаний токенов')\n",
    "plt.yscale('log');"
   ]
  },
  {
   "cell_type": "code",
   "execution_count": 26,
   "metadata": {
    "ExecuteTime": {
     "end_time": "2019-11-05T18:28:01.204527Z",
     "start_time": "2019-11-05T18:28:01.156884Z"
    }
   },
   "outputs": [
    {
     "name": "stdout",
     "output_type": "stream",
     "text": [
      "Количество случаев с неизвестными n-граммами символов в валидационной выборке 0\n"
     ]
    }
   ],
   "source": [
    "unknown_subwords_in_test = sum(1 for text in test_token_ids for token_id in text if token_id == 1)\n",
    "print('Количество случаев с неизвестными n-граммами символов в валидационной выборке',\n",
    "      unknown_subwords_in_test)"
   ]
  },
  {
   "cell_type": "code",
   "execution_count": 27,
   "metadata": {
    "ExecuteTime": {
     "end_time": "2019-11-05T18:28:02.980335Z",
     "start_time": "2019-11-05T18:28:02.938616Z"
    }
   },
   "outputs": [],
   "source": [
    "CHUNK_LENGTH = 80\n",
    "\n",
    "train_dataset = LanguageModelDataset(train_token_ids,\n",
    "                                     chunk_length=CHUNK_LENGTH)\n",
    "test_dataset = LanguageModelDataset(test_token_ids,\n",
    "                                    chunk_length=CHUNK_LENGTH)"
   ]
  },
  {
   "cell_type": "code",
   "execution_count": 28,
   "metadata": {
    "ExecuteTime": {
     "end_time": "2019-11-05T18:28:03.085890Z",
     "start_time": "2019-11-05T18:28:03.061652Z"
    },
    "scrolled": false
   },
   "outputs": [
    {
     "data": {
      "text/plain": [
       "(array([  2,   4, 247, 555, 212, 137, 726, 297, 256, 562, 164, 373, 169,\n",
       "        100, 116, 242,  88, 322, 116,  11, 469,  70, 120,  14, 150, 104,\n",
       "         30, 766, 216,  72, 280, 104, 330,  72, 194,   6, 298, 758,  72,\n",
       "        611,  28, 120, 775, 152, 101,  15, 158, 410, 928, 163,  80, 151,\n",
       "         82, 409, 257, 806, 941, 138,  25,  86, 579,  14, 617, 356, 144,\n",
       "          8, 321, 345, 711,  77, 162,  74, 128,  26,  70,  13,   0,   0,\n",
       "          0,   0]),\n",
       " array([  4, 247, 555, 212, 137, 726, 297, 256, 562, 164, 373, 169, 100,\n",
       "        116, 242,  88, 322, 116,  11, 469,  70, 120,  14, 150, 104,  30,\n",
       "        766, 216,  72, 280, 104, 330,  72, 194,   6, 298, 758,  72, 611,\n",
       "         28, 120, 775, 152, 101,  15, 158, 410, 928, 163,  80, 151,  82,\n",
       "        409, 257, 806, 941, 138,  25,  86, 579,  14, 617, 356, 144,   8,\n",
       "        321, 345, 711,  77, 162,  74, 128,  26,  70,  13,   3,   0,   0,\n",
       "          0,   0]))"
      ]
     },
     "execution_count": 28,
     "metadata": {},
     "output_type": "execute_result"
    }
   ],
   "source": [
    "train_dataset[0]"
   ]
  },
  {
   "cell_type": "code",
   "execution_count": 29,
   "metadata": {
    "ExecuteTime": {
     "end_time": "2019-11-05T18:28:04.302365Z",
     "start_time": "2019-11-05T18:28:04.244547Z"
    }
   },
   "outputs": [
    {
     "data": {
      "text/plain": [
       "tensor([[0., -inf, -inf, -inf, -inf, -inf, -inf, -inf, -inf, -inf],\n",
       "        [0., 0., -inf, -inf, -inf, -inf, -inf, -inf, -inf, -inf],\n",
       "        [0., 0., 0., -inf, -inf, -inf, -inf, -inf, -inf, -inf],\n",
       "        [0., 0., 0., 0., -inf, -inf, -inf, -inf, -inf, -inf],\n",
       "        [0., 0., 0., 0., 0., -inf, -inf, -inf, -inf, -inf],\n",
       "        [0., 0., 0., 0., 0., 0., -inf, -inf, -inf, -inf],\n",
       "        [0., 0., 0., 0., 0., 0., 0., -inf, -inf, -inf],\n",
       "        [0., 0., 0., 0., 0., 0., 0., 0., -inf, -inf],\n",
       "        [0., 0., 0., 0., 0., 0., 0., 0., 0., -inf],\n",
       "        [0., 0., 0., 0., 0., 0., 0., 0., 0., 0.]])"
      ]
     },
     "execution_count": 29,
     "metadata": {},
     "output_type": "execute_result"
    }
   ],
   "source": [
    "make_target_dependency_mask(10)"
   ]
  },
  {
   "cell_type": "code",
   "execution_count": 11,
   "metadata": {
    "ExecuteTime": {
     "end_time": "2019-11-05T18:28:10.550078Z",
     "start_time": "2019-11-05T18:28:10.425261Z"
    }
   },
   "outputs": [
    {
     "name": "stdout",
     "output_type": "stream",
     "text": [
      "Количество параметров 2094312\n"
     ]
    }
   ],
   "source": [
    "torch_transf_model = LanguageModel(tokenizer.vocab_size(),\n",
    "                                   256,\n",
    "                                   BatchFirstTransformerEncoder(\n",
    "                                       nn.TransformerEncoderLayer(\n",
    "                                           d_model=256,\n",
    "                                           nhead=16,\n",
    "                                           dim_feedforward=512,\n",
    "                                           dropout=0.1),\n",
    "                                       num_layers=3),\n",
    "                                   emb_dropout=0.1)\n",
    "print('Количество параметров', get_params_number(torch_transf_model))"
   ]
  },
  {
   "cell_type": "code",
   "execution_count": 31,
   "metadata": {
    "ExecuteTime": {
     "end_time": "2019-11-05T18:28:58.797642Z",
     "start_time": "2019-11-05T18:28:34.626744Z"
    },
    "scrolled": true
   },
   "outputs": [
    {
     "name": "stdout",
     "output_type": "stream",
     "text": [
      "Эпоха 0\n",
      "Эпоха: 1001 итераций, 40.54 сек\n",
      "Среднее значение функции потерь на обучении 5.897737604992969\n",
      "Среднее значение функции потерь на валидации 5.543127995032768\n",
      "Новая лучшая модель!\n",
      "\n",
      "Эпоха 1\n",
      "Эпоха: 1001 итераций, 41.18 сек\n",
      "Среднее значение функции потерь на обучении 5.406984911336528\n",
      "Среднее значение функции потерь на валидации 5.113923025178861\n",
      "Новая лучшая модель!\n",
      "\n",
      "Эпоха 2\n",
      "Эпоха: 1001 итераций, 40.39 сек\n",
      "Среднее значение функции потерь на обучении 5.045798923823979\n",
      "Среднее значение функции потерь на валидации 4.778707005046345\n",
      "Новая лучшая модель!\n",
      "\n",
      "Эпоха 3\n",
      "Эпоха: 1001 итераций, 40.82 сек\n",
      "Среднее значение функции потерь на обучении 4.836383343695641\n",
      "Среднее значение функции потерь на валидации 4.626891889772215\n",
      "Новая лучшая модель!\n",
      "\n",
      "Эпоха 4\n",
      "Эпоха: 1001 итераций, 41.08 сек\n",
      "Среднее значение функции потерь на обучении 4.728045800349095\n",
      "Среднее значение функции потерь на валидации 4.536378777110493\n",
      "Новая лучшая модель!\n",
      "\n",
      "Эпоха 5\n",
      "Эпоха: 1001 итераций, 40.88 сек\n",
      "Среднее значение функции потерь на обучении 4.658184940879281\n",
      "Среднее значение функции потерь на валидации 4.471004552774496\n",
      "Новая лучшая модель!\n",
      "\n",
      "Эпоха 6\n",
      "Эпоха: 1001 итераций, 41.33 сек\n",
      "Среднее значение функции потерь на обучении 4.604694087307651\n",
      "Среднее значение функции потерь на валидации 4.415897637099534\n",
      "Новая лучшая модель!\n",
      "\n",
      "Эпоха 7\n",
      "Эпоха: 1001 итераций, 41.54 сек\n",
      "Среднее значение функции потерь на обучении 4.562141383206332\n",
      "Среднее значение функции потерь на валидации 4.372339038105754\n",
      "Новая лучшая модель!\n",
      "\n",
      "Эпоха 8\n",
      "Эпоха: 1001 итераций, 43.38 сек\n",
      "Среднее значение функции потерь на обучении 4.522956617585906\n",
      "Среднее значение функции потерь на валидации 4.343590564899273\n",
      "Новая лучшая модель!\n",
      "\n",
      "Эпоха 9\n",
      "Эпоха: 1001 итераций, 42.89 сек\n",
      "Среднее значение функции потерь на обучении 4.489821150586321\n",
      "Среднее значение функции потерь на валидации 4.296298357156607\n",
      "Новая лучшая модель!\n",
      "\n",
      "Эпоха 10\n",
      "Эпоха: 1001 итераций, 42.08 сек\n",
      "Среднее значение функции потерь на обучении 4.450874723516383\n",
      "Среднее значение функции потерь на валидации 4.255147573354837\n",
      "Новая лучшая модель!\n",
      "\n",
      "Эпоха 11\n",
      "Эпоха: 1001 итераций, 43.82 сек\n",
      "Среднее значение функции потерь на обучении 4.414297828426609\n",
      "Среднее значение функции потерь на валидации 4.2181483134404045\n",
      "Новая лучшая модель!\n",
      "\n",
      "Эпоха 12\n",
      "Эпоха: 1001 итераций, 44.49 сек\n",
      "Среднее значение функции потерь на обучении 4.377917944729983\n",
      "Среднее значение функции потерь на валидации 4.178957313209861\n",
      "Новая лучшая модель!\n",
      "\n",
      "Эпоха 13\n",
      "Эпоха: 1001 итераций, 42.59 сек\n",
      "Среднее значение функции потерь на обучении 4.34594768958611\n",
      "Среднее значение функции потерь на валидации 4.145476049714751\n",
      "Новая лучшая модель!\n",
      "\n",
      "Эпоха 14\n",
      "Эпоха: 1001 итераций, 43.97 сек\n",
      "Среднее значение функции потерь на обучении 4.316390398618106\n",
      "Среднее значение функции потерь на валидации 4.111326205980528\n",
      "Новая лучшая модель!\n",
      "\n",
      "Эпоха 15\n",
      "Эпоха: 1001 итераций, 42.79 сек\n",
      "Среднее значение функции потерь на обучении 4.288966173177713\n",
      "Среднее значение функции потерь на валидации 4.084396359446523\n",
      "Новая лучшая модель!\n",
      "\n",
      "Эпоха 16\n",
      "Эпоха: 1001 итераций, 44.21 сек\n",
      "Среднее значение функции потерь на обучении 4.2673898300567235\n",
      "Среднее значение функции потерь на валидации 4.060579156065797\n",
      "Новая лучшая модель!\n",
      "\n",
      "Эпоха 17\n",
      "Эпоха: 1001 итераций, 43.74 сек\n",
      "Среднее значение функции потерь на обучении 4.242420675275804\n",
      "Среднее значение функции потерь на валидации 4.034295492000751\n",
      "Новая лучшая модель!\n",
      "\n",
      "Эпоха 18\n",
      "Эпоха: 1001 итераций, 44.57 сек\n",
      "Среднее значение функции потерь на обучении 4.2237749576092245\n",
      "Среднее значение функции потерь на валидации 4.0170279520970364\n",
      "Новая лучшая модель!\n",
      "\n",
      "Эпоха 19\n",
      "Эпоха: 1001 итераций, 43.53 сек\n",
      "Среднее значение функции потерь на обучении 4.207927340394133\n",
      "Среднее значение функции потерь на валидации 3.998984108438025\n",
      "Новая лучшая модель!\n",
      "\n",
      "Эпоха 20\n",
      "Эпоха: 1001 итераций, 43.32 сек\n",
      "Среднее значение функции потерь на обучении 4.1927060623626256\n",
      "Среднее значение функции потерь на валидации 3.9804484134430176\n",
      "Новая лучшая модель!\n",
      "\n",
      "Эпоха 21\n",
      "Эпоха: 1001 итераций, 43.05 сек\n",
      "Среднее значение функции потерь на обучении 4.178899971755235\n",
      "Среднее значение функции потерь на валидации 3.9667262854752363\n",
      "Новая лучшая модель!\n",
      "\n",
      "Эпоха 22\n",
      "Эпоха: 1001 итераций, 43.17 сек\n",
      "Среднее значение функции потерь на обучении 4.164978639943736\n",
      "Среднее значение функции потерь на валидации 3.9558763458774044\n",
      "Новая лучшая модель!\n",
      "\n",
      "Эпоха 23\n",
      "Эпоха: 1001 итераций, 43.96 сек\n",
      "Среднее значение функции потерь на обучении 4.151217197681164\n",
      "Среднее значение функции потерь на валидации 3.9431872770383762\n",
      "Новая лучшая модель!\n",
      "\n",
      "Эпоха 24\n",
      "Эпоха: 1001 итераций, 44.56 сек\n",
      "Среднее значение функции потерь на обучении 4.141179161948282\n",
      "Среднее значение функции потерь на валидации 3.9309566730743164\n",
      "Новая лучшая модель!\n",
      "\n",
      "Эпоха 25\n",
      "Эпоха: 1001 итераций, 42.95 сек\n",
      "Среднее значение функции потерь на обучении 4.132529096288995\n",
      "Среднее значение функции потерь на валидации 3.9229516077946713\n",
      "Новая лучшая модель!\n",
      "\n",
      "Эпоха 26\n",
      "Эпоха: 1001 итераций, 45.02 сек\n",
      "Среднее значение функции потерь на обучении 4.124434045740179\n",
      "Среднее значение функции потерь на валидации 3.911835393705568\n",
      "Новая лучшая модель!\n",
      "\n",
      "Эпоха 27\n",
      "Эпоха: 1001 итераций, 43.74 сек\n",
      "Среднее значение функции потерь на обучении 4.113683244922421\n",
      "Среднее значение функции потерь на валидации 3.9004829048991323\n",
      "Новая лучшая модель!\n",
      "\n",
      "Эпоха 28\n",
      "Эпоха: 1001 итераций, 43.66 сек\n",
      "Среднее значение функции потерь на обучении 4.105428577541233\n",
      "Среднее значение функции потерь на валидации 3.8962720169292226\n",
      "Новая лучшая модель!\n",
      "\n",
      "Эпоха 29\n",
      "Эпоха: 1001 итераций, 43.10 сек\n",
      "Среднее значение функции потерь на обучении 4.096922295672314\n",
      "Среднее значение функции потерь на валидации 3.8855486668787753\n",
      "Новая лучшая модель!\n",
      "\n",
      "Эпоха 30\n",
      "Эпоха: 1001 итераций, 44.03 сек\n",
      "Среднее значение функции потерь на обучении 4.088297846076729\n",
      "Среднее значение функции потерь на валидации 3.879134471361692\n",
      "Новая лучшая модель!\n",
      "\n",
      "Эпоха 31\n",
      "Эпоха: 1001 итераций, 45.59 сек\n",
      "Среднее значение функции потерь на обучении 4.082523236146102\n",
      "Среднее значение функции потерь на валидации 3.872493462843614\n",
      "Новая лучшая модель!\n",
      "\n",
      "Эпоха 32\n",
      "Эпоха: 1001 итераций, 43.60 сек\n",
      "Среднее значение функции потерь на обучении 4.074984261563251\n",
      "Среднее значение функции потерь на валидации 3.8634259769847463\n",
      "Новая лучшая модель!\n",
      "\n",
      "Эпоха 33\n",
      "Эпоха: 1001 итераций, 44.09 сек\n",
      "Среднее значение функции потерь на обучении 4.072323878923735\n",
      "Среднее значение функции потерь на валидации 3.857817077731991\n",
      "Новая лучшая модель!\n",
      "\n",
      "Эпоха 34\n",
      "Эпоха: 1001 итераций, 43.72 сек\n",
      "Среднее значение функции потерь на обучении 4.062764632475602\n",
      "Среднее значение функции потерь на валидации 3.8513158122738163\n",
      "Новая лучшая модель!\n",
      "\n",
      "Эпоха 35\n",
      "Эпоха: 1001 итераций, 43.68 сек\n",
      "Среднее значение функции потерь на обучении 4.058096822563346\n",
      "Среднее значение функции потерь на валидации 3.846096879118806\n",
      "Новая лучшая модель!\n",
      "\n",
      "Эпоха 36\n",
      "Эпоха: 1001 итераций, 43.12 сек\n",
      "Среднее значение функции потерь на обучении 4.054391792127779\n",
      "Среднее значение функции потерь на валидации 3.8411675504633003\n",
      "Новая лучшая модель!\n",
      "\n",
      "Эпоха 37\n",
      "Эпоха: 1001 итераций, 42.84 сек\n",
      "Среднее значение функции потерь на обучении 4.052191115044928\n",
      "Среднее значение функции потерь на валидации 3.836249392706674\n",
      "Новая лучшая модель!\n",
      "\n",
      "Эпоха 38\n",
      "Эпоха: 1001 итераций, 44.95 сек\n",
      "Среднее значение функции потерь на обучении 4.044723301619798\n",
      "Среднее значение функции потерь на валидации 3.828113431578035\n",
      "Новая лучшая модель!\n",
      "\n",
      "Эпоха 39\n",
      "Эпоха: 1001 итераций, 43.21 сек\n",
      "Среднее значение функции потерь на обучении 4.042113695230398\n",
      "Среднее значение функции потерь на валидации 3.8271328955144432\n",
      "Новая лучшая модель!\n",
      "\n",
      "Эпоха 40\n",
      "Эпоха: 1001 итераций, 45.01 сек\n",
      "Среднее значение функции потерь на обучении 4.040471246787956\n",
      "Среднее значение функции потерь на валидации 3.823515792469402\n",
      "Новая лучшая модель!\n",
      "\n",
      "Эпоха 41\n",
      "Эпоха: 1001 итераций, 43.28 сек\n",
      "Среднее значение функции потерь на обучении 4.034551677170334\n",
      "Среднее значение функции потерь на валидации 3.818081852915761\n",
      "Новая лучшая модель!\n",
      "\n",
      "Эпоха 42\n",
      "Эпоха: 1001 итераций, 44.63 сек\n",
      "Среднее значение функции потерь на обучении 4.0310490976918585\n",
      "Среднее значение функции потерь на валидации 3.816445142239124\n",
      "Новая лучшая модель!\n",
      "\n",
      "Эпоха 43\n",
      "Эпоха: 1001 итераций, 43.79 сек\n",
      "Среднее значение функции потерь на обучении 4.025763626460667\n"
     ]
    },
    {
     "name": "stdout",
     "output_type": "stream",
     "text": [
      "Среднее значение функции потерь на валидации 3.8062607968127455\n",
      "Новая лучшая модель!\n",
      "\n",
      "Эпоха 44\n",
      "Эпоха: 1001 итераций, 45.06 сек\n",
      "Среднее значение функции потерь на обучении 4.023835272936673\n",
      "Среднее значение функции потерь на валидации 3.8116765539129296\n",
      "\n",
      "Эпоха 45\n",
      "Эпоха: 1001 итераций, 43.85 сек\n",
      "Среднее значение функции потерь на обучении 4.021441928871147\n",
      "Среднее значение функции потерь на валидации 3.8036131172866137\n",
      "Новая лучшая модель!\n",
      "\n",
      "Эпоха 46\n",
      "Эпоха: 1001 итераций, 44.04 сек\n",
      "Среднее значение функции потерь на обучении 4.022336827648746\n",
      "Среднее значение функции потерь на валидации 3.804681353516631\n",
      "\n",
      "Эпоха 47\n",
      "Эпоха: 1001 итераций, 44.69 сек\n",
      "Среднее значение функции потерь на обучении 4.017074279375486\n",
      "Среднее значение функции потерь на валидации 3.7964081557004246\n",
      "Новая лучшая модель!\n",
      "\n",
      "Эпоха 48\n",
      "Эпоха: 1001 итераций, 43.78 сек\n",
      "Среднее значение функции потерь на обучении 4.015108776616526\n",
      "Среднее значение функции потерь на валидации 3.7935189133757476\n",
      "Новая лучшая модель!\n",
      "\n",
      "Эпоха 49\n",
      "Эпоха: 1001 итераций, 44.00 сек\n",
      "Среднее значение функции потерь на обучении 4.011228926055558\n",
      "Среднее значение функции потерь на валидации 3.7942794679285408\n",
      "\n",
      "Эпоха 50\n",
      "Эпоха: 1001 итераций, 44.71 сек\n",
      "Среднее значение функции потерь на обучении 4.008857555084534\n",
      "Среднее значение функции потерь на валидации 3.7907608331857503\n",
      "Новая лучшая модель!\n",
      "\n",
      "Эпоха 51\n",
      "Эпоха: 1001 итераций, 43.94 сек\n",
      "Среднее значение функции потерь на обучении 4.008792231013844\n",
      "Среднее значение функции потерь на валидации 3.7868935783188062\n",
      "Новая лучшая модель!\n",
      "\n",
      "Эпоха 52\n",
      "Эпоха: 1001 итераций, 42.66 сек\n",
      "Среднее значение функции потерь на обучении 4.005596923304128\n",
      "Среднее значение функции потерь на валидации 3.7898268259012258\n",
      "\n",
      "Эпоха 53\n",
      "Эпоха: 1001 итераций, 44.72 сек\n",
      "Среднее значение функции потерь на обучении 4.002689074803065\n",
      "Среднее значение функции потерь на валидации 3.786152408792303\n",
      "Новая лучшая модель!\n",
      "\n",
      "Эпоха 54\n",
      "Эпоха: 1001 итераций, 44.63 сек\n",
      "Среднее значение функции потерь на обучении 4.003587479357953\n",
      "Среднее значение функции потерь на валидации 3.793313757165686\n",
      "\n",
      "Эпоха 55\n",
      "Эпоха: 1001 итераций, 43.49 сек\n",
      "Среднее значение функции потерь на обучении 4.003425741290951\n",
      "Среднее значение функции потерь на валидации 3.779112985917738\n",
      "Новая лучшая модель!\n",
      "\n",
      "Эпоха 56\n",
      "Эпоха: 1001 итераций, 43.00 сек\n",
      "Среднее значение функции потерь на обучении 3.999814723755096\n",
      "Среднее значение функции потерь на валидации 3.7776750151094025\n",
      "Новая лучшая модель!\n",
      "\n",
      "Эпоха 57\n",
      "Эпоха: 1001 итераций, 42.37 сек\n",
      "Среднее значение функции потерь на обучении 3.995156927661343\n",
      "Среднее значение функции потерь на валидации 3.7755143127955875\n",
      "Новая лучшая модель!\n",
      "\n",
      "Эпоха 58\n",
      "Эпоха: 1001 итераций, 42.22 сек\n",
      "Среднее значение функции потерь на обучении 3.9926591886507046\n",
      "Среднее значение функции потерь на валидации 3.773587266405622\n",
      "Новая лучшая модель!\n",
      "\n",
      "Эпоха 59\n",
      "Эпоха: 1001 итераций, 42.04 сек\n",
      "Среднее значение функции потерь на обучении 3.9892441473759854\n",
      "Среднее значение функции потерь на валидации 3.7668892458364085\n",
      "Новая лучшая модель!\n",
      "\n",
      "Эпоха 60\n",
      "Эпоха: 1001 итераций, 42.07 сек\n",
      "Среднее значение функции потерь на обучении 3.9915420951900424\n",
      "Среднее значение функции потерь на валидации 3.7697245174354608\n",
      "\n",
      "Эпоха 61\n",
      "Эпоха: 1001 итераций, 42.96 сек\n",
      "Среднее значение функции потерь на обучении 3.9877794715431665\n",
      "Среднее значение функции потерь на валидации 3.7653394421854696\n",
      "Новая лучшая модель!\n",
      "\n",
      "Эпоха 62\n",
      "Эпоха: 1001 итераций, 42.61 сек\n",
      "Среднее значение функции потерь на обучении 3.988778664039208\n",
      "Среднее значение функции потерь на валидации 3.7682389412726556\n",
      "\n",
      "Эпоха 63\n",
      "Эпоха: 1001 итераций, 42.31 сек\n",
      "Среднее значение функции потерь на обучении 3.9892121006797003\n",
      "Среднее значение функции потерь на валидации 3.7734916029157457\n",
      "\n",
      "Эпоха 64\n",
      "Эпоха: 1001 итераций, 43.29 сек\n",
      "Среднее значение функции потерь на обучении 3.986291108431516\n",
      "Среднее значение функции потерь на валидации 3.7609045727031454\n",
      "Новая лучшая модель!\n",
      "\n",
      "Эпоха 65\n",
      "Эпоха: 1001 итераций, 42.19 сек\n",
      "Среднее значение функции потерь на обучении 3.983103927437004\n",
      "Среднее значение функции потерь на валидации 3.760322123736173\n",
      "Новая лучшая модель!\n",
      "\n",
      "Эпоха 66\n",
      "Эпоха: 1001 итераций, 42.06 сек\n",
      "Среднее значение функции потерь на обучении 3.9821365587003936\n",
      "Среднее значение функции потерь на валидации 3.7635061073970126\n",
      "\n",
      "Эпоха 67\n",
      "Эпоха: 1001 итераций, 42.03 сек\n",
      "Среднее значение функции потерь на обучении 3.981844222748077\n",
      "Среднее значение функции потерь на валидации 3.7574876812430884\n",
      "Новая лучшая модель!\n",
      "\n",
      "Эпоха 68\n",
      "Эпоха: 1001 итераций, 42.08 сек\n",
      "Среднее значение функции потерь на обучении 3.9812839214618387\n",
      "Среднее значение функции потерь на валидации 3.761457222920436\n",
      "\n",
      "Эпоха 69\n",
      "Эпоха: 1001 итераций, 42.26 сек\n",
      "Среднее значение функции потерь на обучении 3.980633045409943\n",
      "Среднее значение функции потерь на валидации 3.7637457244998807\n",
      "\n",
      "Эпоха 70\n",
      "Эпоха: 1001 итераций, 41.91 сек\n",
      "Среднее значение функции потерь на обучении 3.9775958952012953\n",
      "Среднее значение функции потерь на валидации 3.760166960639077\n",
      "\n",
      "Эпоха 71\n",
      "Эпоха: 1001 итераций, 42.11 сек\n",
      "Среднее значение функции потерь на обучении 3.979568066058697\n",
      "Среднее значение функции потерь на валидации 3.7598773513759647\n",
      "\n",
      "Эпоха 72\n",
      "Эпоха: 1001 итераций, 43.41 сек\n",
      "Среднее значение функции потерь на обучении 3.9776657223106024\n",
      "Среднее значение функции потерь на валидации 3.752475032558689\n",
      "Новая лучшая модель!\n",
      "\n",
      "Эпоха 73\n",
      "Эпоха: 1001 итераций, 42.43 сек\n",
      "Среднее значение функции потерь на обучении 3.973503887831986\n",
      "Среднее значение функции потерь на валидации 3.7481042855269426\n",
      "Новая лучшая модель!\n",
      "\n",
      "Эпоха 74\n",
      "Эпоха: 1001 итераций, 42.42 сек\n",
      "Среднее значение функции потерь на обучении 3.9747584332952965\n",
      "Среднее значение функции потерь на валидации 3.75844615560907\n",
      "\n",
      "Эпоха 75\n",
      "Эпоха: 1001 итераций, 42.40 сек\n",
      "Среднее значение функции потерь на обучении 3.9723467500536116\n",
      "Среднее значение функции потерь на валидации 3.7491142842676735\n",
      "\n",
      "Эпоха 76\n",
      "Эпоха: 1001 итераций, 43.55 сек\n",
      "Среднее значение функции потерь на обучении 3.9720638970156887\n",
      "Среднее значение функции потерь на валидации 3.7434003214974267\n",
      "Новая лучшая модель!\n",
      "\n",
      "Эпоха 77\n",
      "Эпоха: 1001 итераций, 43.55 сек\n",
      "Среднее значение функции потерь на обучении 3.9675956837066284\n",
      "Среднее значение функции потерь на валидации 3.7467777850506425\n",
      "\n",
      "Эпоха 78\n",
      "Эпоха: 1001 итераций, 43.17 сек\n",
      "Среднее значение функции потерь на обучении 3.9710291632405528\n",
      "Среднее значение функции потерь на валидации 3.7464066933204125\n",
      "\n",
      "Эпоха 79\n",
      "Эпоха: 1001 итераций, 42.40 сек\n",
      "Среднее значение функции потерь на обучении 3.9723785285587674\n",
      "Среднее значение функции потерь на валидации 3.7454349075283084\n",
      "\n",
      "Эпоха 80\n",
      "Эпоха: 1001 итераций, 43.06 сек\n",
      "Среднее значение функции потерь на обучении 3.971981290098909\n",
      "Среднее значение функции потерь на валидации 3.748343895246218\n",
      "\n",
      "Эпоха 81\n",
      "Эпоха: 1001 итераций, 43.89 сек\n",
      "Среднее значение функции потерь на обучении 3.967842579840661\n",
      "Среднее значение функции потерь на валидации 3.7463080173248535\n",
      "\n",
      "Эпоха 82\n",
      "Эпоха: 1001 итераций, 42.94 сек\n",
      "Среднее значение функции потерь на обучении 3.967607558428586\n",
      "Среднее значение функции потерь на валидации 3.742120004200435\n",
      "Новая лучшая модель!\n",
      "\n",
      "Эпоха 83\n",
      "Эпоха: 1001 итераций, 41.94 сек\n",
      "Среднее значение функции потерь на обучении 3.9639801085888444\n",
      "Среднее значение функции потерь на валидации 3.739059702380673\n",
      "Новая лучшая модель!\n",
      "\n",
      "Эпоха 84\n",
      "Эпоха: 1001 итераций, 42.00 сек\n",
      "Среднее значение функции потерь на обучении 3.9631162923532766\n",
      "Среднее значение функции потерь на валидации 3.7461174701477264\n",
      "\n",
      "Эпоха 85\n",
      "Эпоха: 1001 итераций, 41.59 сек\n",
      "Среднее значение функции потерь на обучении 3.970736524322769\n",
      "Среднее значение функции потерь на валидации 3.7386663272068814\n",
      "Новая лучшая модель!\n",
      "\n",
      "Эпоха 86\n",
      "Эпоха: 1001 итераций, 41.83 сек\n",
      "Среднее значение функции потерь на обучении 3.9715004665153724\n",
      "Среднее значение функции потерь на валидации 3.7432972763206336\n",
      "\n",
      "Эпоха 87\n",
      "Эпоха: 1001 итераций, 42.10 сек\n",
      "Среднее значение функции потерь на обучении 3.967047592262169\n",
      "Среднее значение функции потерь на валидации 3.7402462871162805\n",
      "\n",
      "Эпоха 88\n",
      "Эпоха: 1001 итераций, 42.25 сек\n",
      "Среднее значение функции потерь на обучении 3.9654940182155185\n",
      "Среднее значение функции потерь на валидации 3.7435316298748704\n",
      "\n",
      "Эпоха 89\n",
      "Эпоха: 1001 итераций, 42.03 сек\n",
      "Среднее значение функции потерь на обучении 3.9656501309378642\n"
     ]
    },
    {
     "name": "stdout",
     "output_type": "stream",
     "text": [
      "Среднее значение функции потерь на валидации 3.735504962109424\n",
      "Новая лучшая модель!\n",
      "\n",
      "Эпоха 90\n",
      "Эпоха: 1001 итераций, 42.23 сек\n",
      "Среднее значение функции потерь на обучении 3.9633458956376417\n",
      "Среднее значение функции потерь на валидации 3.734101541273363\n",
      "Новая лучшая модель!\n",
      "\n",
      "Эпоха 91\n",
      "Эпоха: 1001 итераций, 41.70 сек\n",
      "Среднее значение функции потерь на обучении 3.9619698660237925\n",
      "Среднее значение функции потерь на валидации 3.7380327702044966\n",
      "\n",
      "Эпоха 92\n",
      "Эпоха: 1001 итераций, 42.11 сек\n",
      "Среднее значение функции потерь на обучении 3.961494438417189\n",
      "Среднее значение функции потерь на валидации 3.7354054339043983\n",
      "\n",
      "Эпоха 93\n",
      "Эпоха: 1001 итераций, 42.23 сек\n",
      "Среднее значение функции потерь на обучении 3.961917371302099\n",
      "Среднее значение функции потерь на валидации 3.7330064194781203\n",
      "Новая лучшая модель!\n",
      "\n",
      "Эпоха 94\n",
      "Эпоха: 1001 итераций, 41.86 сек\n",
      "Среднее значение функции потерь на обучении 3.9620905844243492\n",
      "Среднее значение функции потерь на валидации 3.7345398105941454\n",
      "\n",
      "Эпоха 95\n",
      "Эпоха: 1001 итераций, 41.80 сек\n",
      "Среднее значение функции потерь на обучении 3.961358098240642\n",
      "Среднее значение функции потерь на валидации 3.7344542473822564\n",
      "\n",
      "Эпоха 96\n",
      "Эпоха: 1001 итераций, 41.75 сек\n",
      "Среднее значение функции потерь на обучении 3.9637748709210863\n",
      "Среднее значение функции потерь на валидации 3.7382223918125943\n",
      "\n",
      "Эпоха 97\n",
      "Эпоха: 1001 итераций, 42.29 сек\n",
      "Среднее значение функции потерь на обучении 3.962000140657911\n",
      "Среднее значение функции потерь на валидации 3.7336869990075385\n",
      "\n",
      "Эпоха 98\n",
      "Эпоха: 1001 итераций, 44.05 сек\n",
      "Среднее значение функции потерь на обучении 3.9586076400615835\n",
      "Среднее значение функции потерь на валидации 3.734371340596354\n",
      "\n",
      "Эпоха 99\n",
      "Эпоха: 1001 итераций, 43.45 сек\n",
      "Среднее значение функции потерь на обучении 3.95775181382567\n",
      "Среднее значение функции потерь на валидации 3.72687350619923\n",
      "Новая лучшая модель!\n",
      "\n"
     ]
    }
   ],
   "source": [
    "(best_val_loss,\n",
    " best_torch_transf_model) = train_eval_loop(torch_transf_model,\n",
    "                                            train_dataset,\n",
    "                                            test_dataset,\n",
    "                                            lm_cross_entropy,\n",
    "                                            lr=2e-3,\n",
    "                                            epoch_n=100,\n",
    "                                            batch_size=64,\n",
    "                                            device='cuda',\n",
    "                                            early_stopping_patience=5,\n",
    "                                            max_batches_per_epoch_train=1000,\n",
    "                                            max_batches_per_epoch_val=1000,\n",
    "                                            lr_scheduler_ctor=lr_scheduler)"
   ]
  },
  {
   "cell_type": "code",
   "execution_count": 32,
   "metadata": {
    "ExecuteTime": {
     "end_time": "2019-11-05T18:29:00.752077Z",
     "start_time": "2019-11-05T18:29:00.675069Z"
    }
   },
   "outputs": [],
   "source": [
    "torch.save(best_torch_transf_model.state_dict(), os.path.join(DIR_MODELS,'torch_transf_best.pth'))"
   ]
  },
  {
   "cell_type": "code",
   "execution_count": 12,
   "metadata": {
    "ExecuteTime": {
     "end_time": "2019-11-05T18:29:00.844033Z",
     "start_time": "2019-11-05T18:29:00.789023Z"
    }
   },
   "outputs": [
    {
     "data": {
      "text/plain": [
       "<All keys matched successfully>"
      ]
     },
     "execution_count": 12,
     "metadata": {},
     "output_type": "execute_result"
    }
   ],
   "source": [
    "torch_transf_model.load_state_dict(torch.load(os.path.join(DIR_MODELS,'torch_transf_best.pth')))"
   ]
  },
  {
   "cell_type": "code",
   "execution_count": 13,
   "metadata": {
    "ExecuteTime": {
     "end_time": "2019-11-05T18:29:08.328662Z",
     "start_time": "2019-11-05T18:29:08.294006Z"
    }
   },
   "outputs": [],
   "source": [
    "beam_generator = BeamGenerator(torch_transf_model, tokenizer)"
   ]
  },
  {
   "cell_type": "code",
   "execution_count": 17,
   "metadata": {},
   "outputs": [
    {
     "data": {
      "text/plain": [
       "[(3.0440873503684998, 'КМП Живу<EOS>'),\n",
       " (4.4340616663297014, 'КМП Живем вместе с мужем вместе<EOS>'),\n",
       " (5.5119934492333345, 'КМП Живем вместе с мужем с мужем вместе<EOS>'),\n",
       " (5.953215771675442, 'КМП Живем вместе с мужем в мага<EOS>'),\n",
       " (6.109270653029032, 'КМП Живем с парнем с парнем вместе вместе вместе<EOS>')]"
      ]
     },
     "execution_count": 17,
     "metadata": {},
     "output_type": "execute_result"
    }
   ],
   "source": [
    "beam_generator(\n",
    "    'КМП',\n",
    "    beamsize=5,\n",
    ")"
   ]
  },
  {
   "cell_type": "code",
   "execution_count": null,
   "metadata": {},
   "outputs": [],
   "source": []
  }
 ],
 "metadata": {
  "kernelspec": {
   "display_name": "Python 3",
   "language": "python",
   "name": "python3"
  },
  "language_info": {
   "codemirror_mode": {
    "name": "ipython",
    "version": 3
   },
   "file_extension": ".py",
   "mimetype": "text/x-python",
   "name": "python",
   "nbconvert_exporter": "python",
   "pygments_lexer": "ipython3",
   "version": "3.8.10"
  },
  "latex_envs": {
   "LaTeX_envs_menu_present": true,
   "autoclose": false,
   "autocomplete": true,
   "bibliofile": "biblio.bib",
   "cite_by": "apalike",
   "current_citInitial": 1,
   "eqLabelWithNumbers": true,
   "eqNumInitial": 1,
   "hotkeys": {
    "equation": "Ctrl-E",
    "itemize": "Ctrl-I"
   },
   "labels_anchors": false,
   "latex_user_defs": false,
   "report_style_numbering": false,
   "user_envs_cfg": false
  },
  "toc": {
   "base_numbering": 1,
   "nav_menu": {},
   "number_sections": true,
   "sideBar": true,
   "skip_h1_title": false,
   "title_cell": "Table of Contents",
   "title_sidebar": "Contents",
   "toc_cell": false,
   "toc_position": {},
   "toc_section_display": true,
   "toc_window_display": true
  }
 },
 "nbformat": 4,
 "nbformat_minor": 2
}
